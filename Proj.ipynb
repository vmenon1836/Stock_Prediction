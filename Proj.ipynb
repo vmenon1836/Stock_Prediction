{
 "cells": [
  {
   "cell_type": "markdown",
   "metadata": {},
   "source": [
    "#  AAPL stock prediction for 2014-2018\n",
    "\n",
    "In this notebook we will try Linear Regression, Random Forest Regressor and LSTM model for AAPL stock and will figure out which model suits the best for the stock of our interest. "
   ]
  },
  {
   "cell_type": "markdown",
   "metadata": {},
   "source": [
    "## Importing necessary packages"
   ]
  },
  {
   "cell_type": "code",
   "execution_count": 40,
   "metadata": {},
   "outputs": [],
   "source": [
    "import matplotlib.pyplot as plt\n",
    "import numpy as np\n",
    "import math\n",
    "import pandas as pd\n",
    "from sklearn.metrics import mean_squared_error\n",
    "from math import sqrt"
   ]
  },
  {
   "cell_type": "markdown",
   "metadata": {},
   "source": [
    "## Reading the csv file"
   ]
  },
  {
   "cell_type": "code",
   "execution_count": 41,
   "metadata": {},
   "outputs": [],
   "source": [
    "aapl=pd.read_csv(\"AAPL.csv\")"
   ]
  },
  {
   "cell_type": "markdown",
   "metadata": {},
   "source": [
    "## The following three steps will provide a basic understanding of the dataset"
   ]
  },
  {
   "cell_type": "code",
   "execution_count": 42,
   "metadata": {},
   "outputs": [
    {
     "data": {
      "text/html": [
       "<div>\n",
       "<style scoped>\n",
       "    .dataframe tbody tr th:only-of-type {\n",
       "        vertical-align: middle;\n",
       "    }\n",
       "\n",
       "    .dataframe tbody tr th {\n",
       "        vertical-align: top;\n",
       "    }\n",
       "\n",
       "    .dataframe thead th {\n",
       "        text-align: right;\n",
       "    }\n",
       "</style>\n",
       "<table border=\"1\" class=\"dataframe\">\n",
       "  <thead>\n",
       "    <tr style=\"text-align: right;\">\n",
       "      <th></th>\n",
       "      <th>ticker</th>\n",
       "      <th>open</th>\n",
       "      <th>close</th>\n",
       "      <th>adj_close</th>\n",
       "      <th>low</th>\n",
       "      <th>high</th>\n",
       "      <th>volume</th>\n",
       "      <th>date</th>\n",
       "    </tr>\n",
       "  </thead>\n",
       "  <tbody>\n",
       "    <tr>\n",
       "      <th>0</th>\n",
       "      <td>AAPL</td>\n",
       "      <td>79.382858</td>\n",
       "      <td>79.018570</td>\n",
       "      <td>67.486176</td>\n",
       "      <td>78.860001</td>\n",
       "      <td>79.575714</td>\n",
       "      <td>58671200</td>\n",
       "      <td>1/2/2014</td>\n",
       "    </tr>\n",
       "    <tr>\n",
       "      <th>1</th>\n",
       "      <td>AAPL</td>\n",
       "      <td>78.980003</td>\n",
       "      <td>77.282860</td>\n",
       "      <td>66.003777</td>\n",
       "      <td>77.204285</td>\n",
       "      <td>79.099998</td>\n",
       "      <td>98116900</td>\n",
       "      <td>1/3/2014</td>\n",
       "    </tr>\n",
       "    <tr>\n",
       "      <th>2</th>\n",
       "      <td>AAPL</td>\n",
       "      <td>76.778572</td>\n",
       "      <td>77.704285</td>\n",
       "      <td>66.363701</td>\n",
       "      <td>76.228569</td>\n",
       "      <td>78.114288</td>\n",
       "      <td>103152700</td>\n",
       "      <td>1/6/2014</td>\n",
       "    </tr>\n",
       "    <tr>\n",
       "      <th>3</th>\n",
       "      <td>AAPL</td>\n",
       "      <td>77.760002</td>\n",
       "      <td>77.148575</td>\n",
       "      <td>65.889114</td>\n",
       "      <td>76.845711</td>\n",
       "      <td>77.994286</td>\n",
       "      <td>79302300</td>\n",
       "      <td>1/7/2014</td>\n",
       "    </tr>\n",
       "    <tr>\n",
       "      <th>4</th>\n",
       "      <td>AAPL</td>\n",
       "      <td>76.972855</td>\n",
       "      <td>77.637146</td>\n",
       "      <td>66.306381</td>\n",
       "      <td>76.955711</td>\n",
       "      <td>77.937141</td>\n",
       "      <td>64632400</td>\n",
       "      <td>1/8/2014</td>\n",
       "    </tr>\n",
       "  </tbody>\n",
       "</table>\n",
       "</div>"
      ],
      "text/plain": [
       "  ticker       open      close  adj_close        low       high     volume  \\\n",
       "0   AAPL  79.382858  79.018570  67.486176  78.860001  79.575714   58671200   \n",
       "1   AAPL  78.980003  77.282860  66.003777  77.204285  79.099998   98116900   \n",
       "2   AAPL  76.778572  77.704285  66.363701  76.228569  78.114288  103152700   \n",
       "3   AAPL  77.760002  77.148575  65.889114  76.845711  77.994286   79302300   \n",
       "4   AAPL  76.972855  77.637146  66.306381  76.955711  77.937141   64632400   \n",
       "\n",
       "       date  \n",
       "0  1/2/2014  \n",
       "1  1/3/2014  \n",
       "2  1/6/2014  \n",
       "3  1/7/2014  \n",
       "4  1/8/2014  "
      ]
     },
     "execution_count": 42,
     "metadata": {},
     "output_type": "execute_result"
    }
   ],
   "source": [
    "aapl.head()"
   ]
  },
  {
   "cell_type": "code",
   "execution_count": 43,
   "metadata": {},
   "outputs": [
    {
     "name": "stdout",
     "output_type": "stream",
     "text": [
      "<class 'pandas.core.frame.DataFrame'>\n",
      "RangeIndex: 1171 entries, 0 to 1170\n",
      "Data columns (total 8 columns):\n",
      "ticker       1171 non-null object\n",
      "open         1171 non-null float64\n",
      "close        1171 non-null float64\n",
      "adj_close    1171 non-null float64\n",
      "low          1171 non-null float64\n",
      "high         1171 non-null float64\n",
      "volume       1171 non-null int64\n",
      "date         1171 non-null object\n",
      "dtypes: float64(5), int64(1), object(2)\n",
      "memory usage: 73.3+ KB\n"
     ]
    }
   ],
   "source": [
    "aapl.info()"
   ]
  },
  {
   "cell_type": "code",
   "execution_count": 44,
   "metadata": {},
   "outputs": [
    {
     "data": {
      "text/plain": [
       "(1171, 8)"
      ]
     },
     "execution_count": 44,
     "metadata": {},
     "output_type": "execute_result"
    }
   ],
   "source": [
    "aapl.shape"
   ]
  },
  {
   "cell_type": "markdown",
   "metadata": {},
   "source": [
    "We have 8 features and 1171 observations"
   ]
  },
  {
   "cell_type": "markdown",
   "metadata": {},
   "source": [
    "## Building a Linear Regression model for AAPL stock"
   ]
  },
  {
   "cell_type": "code",
   "execution_count": 45,
   "metadata": {},
   "outputs": [],
   "source": [
    "from sklearn.model_selection import train_test_split\n",
    "from sklearn.linear_model import LinearRegression"
   ]
  },
  {
   "cell_type": "markdown",
   "metadata": {},
   "source": [
    "Index will be taken as the X and the target varialble will be 'close'"
   ]
  },
  {
   "cell_type": "code",
   "execution_count": 46,
   "metadata": {},
   "outputs": [],
   "source": [
    "X= np.array(aapl.index).reshape(-1,1)\n",
    "y= aapl.close"
   ]
  },
  {
   "cell_type": "code",
   "execution_count": 47,
   "metadata": {},
   "outputs": [],
   "source": [
    "n_train= 1000"
   ]
  },
  {
   "cell_type": "markdown",
   "metadata": {},
   "source": [
    "For the above step, the variable n_train is given the value of 1000 to make a training test split of 1000:117"
   ]
  },
  {
   "cell_type": "code",
   "execution_count": 48,
   "metadata": {},
   "outputs": [],
   "source": [
    "lr = LinearRegression()"
   ]
  },
  {
   "cell_type": "code",
   "execution_count": 49,
   "metadata": {},
   "outputs": [],
   "source": [
    "X_train, X_test = X[:n_train], X[n_train:]\n",
    "y_train, y_test = y[:n_train], y[n_train:]\n",
    "lr.fit(X_train, y_train)\n",
    "y_pred_train = lr.predict(X_train)   \n",
    "y_pred = lr.predict(X_test)"
   ]
  },
  {
   "cell_type": "code",
   "execution_count": 50,
   "metadata": {},
   "outputs": [
    {
     "data": {
      "text/plain": [
       "([<matplotlib.axis.XTick at 0x20a12692c88>,\n",
       "  <matplotlib.axis.XTick at 0x20a12692348>,\n",
       "  <matplotlib.axis.XTick at 0x20a116b9f08>,\n",
       "  <matplotlib.axis.XTick at 0x20a126b6188>,\n",
       "  <matplotlib.axis.XTick at 0x20a126b6908>,\n",
       "  <matplotlib.axis.XTick at 0x20a126b9208>,\n",
       "  <matplotlib.axis.XTick at 0x20a126b9b88>,\n",
       "  <matplotlib.axis.XTick at 0x20a126be508>,\n",
       "  <matplotlib.axis.XTick at 0x20a126c31c8>,\n",
       "  <matplotlib.axis.XTick at 0x20a126b6c08>,\n",
       "  <matplotlib.axis.XTick at 0x20a126c37c8>,\n",
       "  <matplotlib.axis.XTick at 0x20a126c6148>],\n",
       " <a list of 12 Text xticklabel objects>)"
      ]
     },
     "execution_count": 50,
     "metadata": {},
     "output_type": "execute_result"
    },
    {
     "data": {
      "image/png": "[encoded data removed]",
      "text/plain": [
       "<Figure size 720x216 with 1 Axes>"
      ]
     },
     "metadata": {
      "needs_background": "light"
     },
     "output_type": "display_data"
    }
   ],
   "source": [
    "plt.figure(figsize=(10, 3))\n",
    "plt.xticks(range(0, len(X), 8),rotation=90,ha=\"left\")\n",
    "plt.plot(range(n_train), y_train, label=\"train\")   \n",
    "plt.plot(range(n_train, len(y_test) + n_train), y_test, '-', label=\"test\")    \n",
    "plt.plot(range(n_train), y_pred_train, '--', label=\"prediction train\")\n",
    "plt.plot(range(n_train, len(y_test) + n_train), y_pred, '--',label=\"prediction test\")   \n",
    "plt.legend(loc=(1.01, 0))    \n",
    "plt.xlabel(\"Day\")  \n",
    "plt.ylabel(\"Close\")\n",
    "plt.xticks([1,101,201,301,401,501,601,701,801,901,1001,1101])"
   ]
  },
  {
   "cell_type": "code",
   "execution_count": 51,
   "metadata": {},
   "outputs": [],
   "source": [
    "rms = sqrt(mean_squared_error(y_test, y_pred))"
   ]
  },
  {
   "cell_type": "code",
   "execution_count": 52,
   "metadata": {},
   "outputs": [
    {
     "data": {
      "text/plain": [
       "29.908916619018868"
      ]
     },
     "execution_count": 52,
     "metadata": {},
     "output_type": "execute_result"
    }
   ],
   "source": [
    "rms"
   ]
  },
  {
   "cell_type": "markdown",
   "metadata": {},
   "source": [
    "From the above graph it is clear that not a single point of the actual data lies on the regression line. Hence linear regression cannot directly be used to predict stock prices. Also the the RMS value for the model is high stating that the model is not really compatible with stock prediction."
   ]
  },
  {
   "cell_type": "markdown",
   "metadata": {},
   "source": [
    "# Trying RandomForestRegressor"
   ]
  },
  {
   "cell_type": "code",
   "execution_count": 53,
   "metadata": {},
   "outputs": [],
   "source": [
    "from sklearn.ensemble import RandomForestRegressor\n",
    "regressor = RandomForestRegressor(n_estimators=100, random_state=0) \n",
    "regressor.fit(X_train,y_train)\n",
    "y_pred_train = regressor.predict(X_train)   \n",
    "y_pred = regressor.predict(X_test)\n"
   ]
  },
  {
   "cell_type": "code",
   "execution_count": 54,
   "metadata": {},
   "outputs": [
    {
     "data": {
      "text/plain": [
       "([<matplotlib.axis.XTick at 0x209d6765748>,\n",
       "  <matplotlib.axis.XTick at 0x20a116b18c8>,\n",
       "  <matplotlib.axis.XTick at 0x20a116b4b48>,\n",
       "  <matplotlib.axis.XTick at 0x20a128581c8>,\n",
       "  <matplotlib.axis.XTick at 0x20a12858648>,\n",
       "  <matplotlib.axis.XTick at 0x20a1285b288>,\n",
       "  <matplotlib.axis.XTick at 0x20a1285b948>,\n",
       "  <matplotlib.axis.XTick at 0x20a1285f188>,\n",
       "  <matplotlib.axis.XTick at 0x20a1285f788>,\n",
       "  <matplotlib.axis.XTick at 0x20a12862148>,\n",
       "  <matplotlib.axis.XTick at 0x20a128629c8>,\n",
       "  <matplotlib.axis.XTick at 0x20a128685c8>],\n",
       " <a list of 12 Text xticklabel objects>)"
      ]
     },
     "execution_count": 54,
     "metadata": {},
     "output_type": "execute_result"
    },
    {
     "data": {
      "image/png": "[encoded data removed]",
      "text/plain": [
       "<Figure size 720x216 with 1 Axes>"
      ]
     },
     "metadata": {
      "needs_background": "light"
     },
     "output_type": "display_data"
    }
   ],
   "source": [
    "plt.figure(figsize=(10, 3))\n",
    "plt.xticks(range(0, len(X), 8),rotation=90,ha=\"left\")\n",
    "plt.plot(range(n_train), y_train, label=\"train\")   \n",
    "plt.plot(range(n_train, len(y_test) + n_train), y_test, '-', label=\"test\")    \n",
    "plt.plot(range(n_train), y_pred_train, '--', label=\"prediction train\")\n",
    "plt.plot(range(n_train, len(y_test) + n_train), y_pred, '--',label=\"prediction test\")   \n",
    "plt.legend(loc=(1.01, 0))    \n",
    "plt.xlabel(\"Day\")  \n",
    "plt.ylabel(\"Close\")\n",
    "plt.xticks([1,101,201,301,401,501,601,701,801,901,1001,1101])"
   ]
  },
  {
   "cell_type": "markdown",
   "metadata": {},
   "source": [
    "The above model can be considered as a better model than the linear regression model but cannot say this is the best."
   ]
  },
  {
   "cell_type": "code",
   "execution_count": 55,
   "metadata": {},
   "outputs": [
    {
     "data": {
      "text/plain": [
       "15.337741817981481"
      ]
     },
     "execution_count": 55,
     "metadata": {},
     "output_type": "execute_result"
    }
   ],
   "source": [
    "rms = sqrt(mean_squared_error(y_test, y_pred))\n",
    "rms"
   ]
  },
  {
   "cell_type": "markdown",
   "metadata": {},
   "source": [
    "Clearly the RMS value have drastically come down with this model. Hence we can say that Random forest regressor is relatiely a better model."
   ]
  },
  {
   "cell_type": "markdown",
   "metadata": {},
   "source": [
    "# Trying LSTM(Long Short Term Memory) Model on the AAPL stock."
   ]
  },
  {
   "cell_type": "code",
   "execution_count": 56,
   "metadata": {},
   "outputs": [],
   "source": [
    "#importing required libraries to run the model\n",
    "from sklearn.preprocessing import MinMaxScaler\n",
    "from keras.models import Sequential\n",
    "from keras.layers import Dense, Dropout, LSTM"
   ]
  },
  {
   "cell_type": "code",
   "execution_count": 57,
   "metadata": {},
   "outputs": [],
   "source": [
    "#creating dataframe for AAPL data\n",
    "data = aapl.sort_index(ascending=True, axis=0)\n",
    "new_data = pd.DataFrame(index=range(0,len(aapl)),columns=['date', 'close'])\n",
    "for i in range(0,len(data)):\n",
    "    new_data['date'][i] = data['date'][i]\n",
    "    new_data['close'][i] = data['close'][i]"
   ]
  },
  {
   "cell_type": "markdown",
   "metadata": {},
   "source": []
  },
  {
   "cell_type": "code",
   "execution_count": 24,
   "metadata": {},
   "outputs": [],
   "source": [
    "new_data.index = new_data.date\n",
    "new_data.drop('date', axis=1, inplace=True)"
   ]
  },
  {
   "cell_type": "code",
   "execution_count": 25,
   "metadata": {},
   "outputs": [],
   "source": [
    "#creating train and test sets for the moddel\n",
    "dataset = new_data.values"
   ]
  },
  {
   "cell_type": "code",
   "execution_count": 26,
   "metadata": {},
   "outputs": [],
   "source": [
    "train = dataset[0:1000,:]\n",
    "valid = dataset[1000:,:]"
   ]
  },
  {
   "cell_type": "code",
   "execution_count": 27,
   "metadata": {},
   "outputs": [],
   "source": [
    "#creating x_train and y_train\n",
    "scaler = MinMaxScaler(feature_range=(0, 1))\n",
    "scaled_data = scaler.fit_transform(dataset)"
   ]
  },
  {
   "cell_type": "code",
   "execution_count": 28,
   "metadata": {},
   "outputs": [],
   "source": [
    "x_train, y_train = [], []\n",
    "for i in range(60,len(train)):\n",
    "    x_train.append(scaled_data[i-60:i,0])\n",
    "    y_train.append(scaled_data[i,0])\n",
    "x_train, y_train = np.array(x_train), np.array(y_train)"
   ]
  },
  {
   "cell_type": "code",
   "execution_count": 29,
   "metadata": {},
   "outputs": [],
   "source": [
    "x_train = np.reshape(x_train, (x_train.shape[0],x_train.shape[1],1))"
   ]
  },
  {
   "cell_type": "code",
   "execution_count": 30,
   "metadata": {},
   "outputs": [
    {
     "name": "stdout",
     "output_type": "stream",
     "text": [
      "WARNING:tensorflow:From C:\\Users\\VINU\\.conda\\envs\\DAB300\\lib\\site-packages\\keras\\backend\\tensorflow_backend.py:74: The name tf.get_default_graph is deprecated. Please use tf.compat.v1.get_default_graph instead.\n",
      "\n",
      "WARNING:tensorflow:From C:\\Users\\VINU\\.conda\\envs\\DAB300\\lib\\site-packages\\keras\\backend\\tensorflow_backend.py:517: The name tf.placeholder is deprecated. Please use tf.compat.v1.placeholder instead.\n",
      "\n",
      "WARNING:tensorflow:From C:\\Users\\VINU\\.conda\\envs\\DAB300\\lib\\site-packages\\keras\\backend\\tensorflow_backend.py:4138: The name tf.random_uniform is deprecated. Please use tf.random.uniform instead.\n",
      "\n"
     ]
    }
   ],
   "source": [
    "# create and fit the LSTM model\n",
    "model = Sequential()\n",
    "model.add(LSTM(units=50, return_sequences=True, input_shape=(x_train.shape[1],1)))\n",
    "model.add(LSTM(units=50))\n",
    "model.add(Dense(1))"
   ]
  },
  {
   "cell_type": "code",
   "execution_count": 31,
   "metadata": {},
   "outputs": [
    {
     "name": "stdout",
     "output_type": "stream",
     "text": [
      "WARNING:tensorflow:From C:\\Users\\VINU\\.conda\\envs\\DAB300\\lib\\site-packages\\keras\\optimizers.py:790: The name tf.train.Optimizer is deprecated. Please use tf.compat.v1.train.Optimizer instead.\n",
      "\n",
      "WARNING:tensorflow:From C:\\Users\\VINU\\.conda\\envs\\DAB300\\lib\\site-packages\\tensorflow_core\\python\\ops\\math_grad.py:1424: where (from tensorflow.python.ops.array_ops) is deprecated and will be removed in a future version.\n",
      "Instructions for updating:\n",
      "Use tf.where in 2.0, which has the same broadcast rule as np.where\n",
      "WARNING:tensorflow:From C:\\Users\\VINU\\.conda\\envs\\DAB300\\lib\\site-packages\\keras\\backend\\tensorflow_backend.py:986: The name tf.assign_add is deprecated. Please use tf.compat.v1.assign_add instead.\n",
      "\n",
      "WARNING:tensorflow:From C:\\Users\\VINU\\.conda\\envs\\DAB300\\lib\\site-packages\\keras\\backend\\tensorflow_backend.py:973: The name tf.assign is deprecated. Please use tf.compat.v1.assign instead.\n",
      "\n",
      "WARNING:tensorflow:From C:\\Users\\VINU\\.conda\\envs\\DAB300\\lib\\site-packages\\keras\\backend\\tensorflow_backend.py:2741: The name tf.Session is deprecated. Please use tf.compat.v1.Session instead.\n",
      "\n",
      "Epoch 1/1\n",
      "WARNING:tensorflow:From C:\\Users\\VINU\\.conda\\envs\\DAB300\\lib\\site-packages\\keras\\backend\\tensorflow_backend.py:174: The name tf.get_default_session is deprecated. Please use tf.compat.v1.get_default_session instead.\n",
      "\n",
      "WARNING:tensorflow:From C:\\Users\\VINU\\.conda\\envs\\DAB300\\lib\\site-packages\\keras\\backend\\tensorflow_backend.py:181: The name tf.ConfigProto is deprecated. Please use tf.compat.v1.ConfigProto instead.\n",
      "\n",
      "WARNING:tensorflow:From C:\\Users\\VINU\\.conda\\envs\\DAB300\\lib\\site-packages\\keras\\backend\\tensorflow_backend.py:190: The name tf.global_variables is deprecated. Please use tf.compat.v1.global_variables instead.\n",
      "\n",
      "WARNING:tensorflow:From C:\\Users\\VINU\\.conda\\envs\\DAB300\\lib\\site-packages\\keras\\backend\\tensorflow_backend.py:199: The name tf.is_variable_initialized is deprecated. Please use tf.compat.v1.is_variable_initialized instead.\n",
      "\n",
      "WARNING:tensorflow:From C:\\Users\\VINU\\.conda\\envs\\DAB300\\lib\\site-packages\\keras\\backend\\tensorflow_backend.py:206: The name tf.variables_initializer is deprecated. Please use tf.compat.v1.variables_initializer instead.\n",
      "\n",
      " - 91s - loss: 0.0015\n"
     ]
    },
    {
     "data": {
      "text/plain": [
       "<keras.callbacks.History at 0x209e4f54e88>"
      ]
     },
     "execution_count": 31,
     "metadata": {},
     "output_type": "execute_result"
    }
   ],
   "source": [
    "model.compile(loss='mean_squared_error', optimizer='adam')\n",
    "model.fit(x_train, y_train, epochs=1, batch_size=1, verbose=2)"
   ]
  },
  {
   "cell_type": "code",
   "execution_count": 32,
   "metadata": {},
   "outputs": [],
   "source": [
    "inputs = new_data[len(new_data) - len(valid) - 60:].values\n",
    "inputs = inputs.reshape(-1,1)\n",
    "inputs  = scaler.transform(inputs)"
   ]
  },
  {
   "cell_type": "code",
   "execution_count": 33,
   "metadata": {},
   "outputs": [],
   "source": [
    "X_test = []\n",
    "for i in range(60,inputs.shape[0]):\n",
    "    X_test.append(inputs[i-60:i,0])\n",
    "X_test = np.array(X_test)"
   ]
  },
  {
   "cell_type": "code",
   "execution_count": 34,
   "metadata": {},
   "outputs": [],
   "source": [
    "X_test = np.reshape(X_test, (X_test.shape[0],X_test.shape[1],1))\n",
    "closing_price = model.predict(X_test)\n",
    "closing_price = scaler.inverse_transform(closing_price)"
   ]
  },
  {
   "cell_type": "markdown",
   "metadata": {},
   "source": [
    "## Plotting the predicted values on a graph"
   ]
  },
  {
   "cell_type": "code",
   "execution_count": 39,
   "metadata": {},
   "outputs": [
    {
     "name": "stderr",
     "output_type": "stream",
     "text": [
      "C:\\Users\\VINU\\.conda\\envs\\DAB300\\lib\\site-packages\\ipykernel_launcher.py:3: SettingWithCopyWarning: \n",
      "A value is trying to be set on a copy of a slice from a DataFrame.\n",
      "Try using .loc[row_indexer,col_indexer] = value instead\n",
      "\n",
      "See the caveats in the documentation: http://pandas.pydata.org/pandas-docs/stable/user_guide/indexing.html#returning-a-view-versus-a-copy\n",
      "  This is separate from the ipykernel package so we can avoid doing imports until\n"
     ]
    },
    {
     "data": {
      "text/plain": [
       "([<matplotlib.axis.XTick at 0x20a1162b5c8>,\n",
       "  <matplotlib.axis.XTick at 0x20a11625c88>,\n",
       "  <matplotlib.axis.XTick at 0x209e64a6fc8>,\n",
       "  <matplotlib.axis.XTick at 0x20a116556c8>],\n",
       " <a list of 4 Text xticklabel objects>)"
      ]
     },
     "execution_count": 39,
     "metadata": {},
     "output_type": "execute_result"
    },
    {
     "data": {
      "image/png": "[encoded data removed]",
      "text/plain": [
       "<Figure size 432x288 with 1 Axes>"
      ]
     },
     "metadata": {
      "needs_background": "light"
     },
     "output_type": "display_data"
    }
   ],
   "source": [
    "train = new_data[:1000]\n",
    "valid = new_data[1000:]\n",
    "valid['Predictions'] = closing_price\n",
    "plt.plot(train['close'])\n",
    "plt.plot(valid[['close','Predictions']])\n",
    "plt.xlabel(\"Date\",labelpad = 0.5)  \n",
    "plt.ylabel(\"Close\")\n",
    "plt.xticks([1,401,801,1117]) \n",
    "\n"
   ]
  },
  {
   "cell_type": "markdown",
   "metadata": {},
   "source": [
    "## Checking the RMS value for the model"
   ]
  },
  {
   "cell_type": "code",
   "execution_count": 50,
   "metadata": {},
   "outputs": [
    {
     "data": {
      "text/plain": [
       "close          6.114494\n",
       "Predictions    0.000000\n",
       "dtype: float64"
      ]
     },
     "execution_count": 50,
     "metadata": {},
     "output_type": "execute_result"
    }
   ],
   "source": [
    "rms=np.sqrt(np.mean(np.power((valid-closing_price),2)))\n",
    "rms"
   ]
  },
  {
   "cell_type": "markdown",
   "metadata": {},
   "source": [
    "Clearly we can see that LSTM model is the best model wew it comes to the stock prediction as it capture most of the noise in the data to give us a reliable prediction. The rms value for the model is the least and can be said as a giant leap when we compare it with an ordinary regression model. "
   ]
  },
  {
   "cell_type": "code",
   "execution_count": null,
   "metadata": {},
   "outputs": [],
   "source": []
  }
 ],
 "metadata": {
  "kernelspec": {
   "display_name": "Python 3",
   "language": "python",
   "name": "python3"
  },
  "language_info": {
   "codemirror_mode": {
    "name": "ipython",
    "version": 3
   },
   "file_extension": ".py",
   "mimetype": "text/x-python",
   "name": "python",
   "nbconvert_exporter": "python",
   "pygments_lexer": "ipython3",
   "version": "3.7.6"
  }
 },
 "nbformat": 4,
 "nbformat_minor": 2
}
